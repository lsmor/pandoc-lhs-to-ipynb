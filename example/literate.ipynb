{
 "cells": [
  {
   "cell_type": "markdown",
   "metadata": {},
   "source": [
    "This is a Header\n",
    "================\n",
    "\n",
    "This is some code in Bird-style"
   ]
  },
  {
   "cell_type": "code",
   "execution_count": null,
   "metadata": {},
   "outputs": [],
   "source": [
    "func :: Int -> Int \n",
    "func = (+42)"
   ]
  },
  {
   "cell_type": "markdown",
   "metadata": {},
   "source": [
    "This is a list using markdown regular syntax\n",
    "\n",
    "-   One\n",
    "-   Two\n",
    "-   Three\n",
    "-   Caramba\n",
    "\n",
    "This is a second-level header\n",
    "-----------------------------\n",
    "\n",
    "This can be handle by pandoc, but ghci wont load this file because of\n",
    "two different styles of code."
   ]
  },
  {
   "cell_type": "code",
   "execution_count": null,
   "metadata": {},
   "outputs": [],
   "source": [
    "\n",
    "more = \"code\" `elem` [\"different\", \"style\"]\n",
    "dont = \"mix different style in one literate file.\""
   ]
  },
  {
   "cell_type": "markdown",
   "metadata": {},
   "source": [
    "### Quoteblock syntax\n",
    "\n",
    "`inline code` wont generate a code cell\n",
    "\n",
    "> Use “space + greater than” to write a quoteblock.\n",
    "\n",
    "All `>` symbols in the first column are interpreted as `Haskell` code"
   ]
  },
  {
   "cell_type": "code",
   "execution_count": null,
   "metadata": {},
   "outputs": [],
   "source": [
    "this = \"is haskell code\""
   ]
  },
  {
   "cell_type": "markdown",
   "metadata": {},
   "source": [
    "> this a quoteblock. Notice there should be one space between haskell\n",
    "> code and quoteblocks, otherwise everything is interpreted as a\n",
    "> quoteblock.\n",
    "\n",
    "As a rule of thumb always surround your haskell code with empty lines to\n",
    "prevent a missmatch between Haskell and markdown syntax"
   ]
  }
 ],
 "nbformat": 4,
 "nbformat_minor": 4,
 "metadata": {
  "language_info": {
   "name": "haskell",
   "file_extension": ".hs",
   "pygments_lexer": "Haskell",
   "version": "8.10.7",
   "codemirror_mode": "ihaskell"
  },
  "kernelspec": {
   "name": "haskell",
   "display_name": "Haskell",
   "language": "haskell"
  }
 }
}
